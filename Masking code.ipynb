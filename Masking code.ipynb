{
 "cells": [
  {
   "cell_type": "code",
   "execution_count": 1,
   "id": "084b3054",
   "metadata": {},
   "outputs": [],
   "source": [
    "import numpy as np\n",
    "from astropy.io import fits\n",
    "import sys\n",
    "import pandas as pd\n",
    "np.set_printoptions(threshold=sys.maxsize)\n",
    "from IPython.display import clear_output"
   ]
  },
  {
   "cell_type": "code",
   "execution_count": 2,
   "id": "6acb2a35",
   "metadata": {},
   "outputs": [],
   "source": [
    "def mask(path,writetofile):\n",
    "    Datafile = fits.open(path)\n",
    "    data = Datafile[0].data\n",
    "    print(np.shape(data))\n",
    "    masking_array = np.zeros([len(data),len(data[0])])\n",
    "    print(np.shape(masking_array))\n",
    "    while True:\n",
    "        Type = input(\"Does it need to be within a region defined by an inner and outer radii? (It will be considered to be within the specified radius if input is No) [y/n]\")\n",
    "        Outer_rad = int(input(\"Enter the outer radius: \"))\n",
    "        if Type == \"y\":\n",
    "            Inner_rad = int(input(\"Enter the inner radius: \"))\n",
    "        else:\n",
    "            Inner_rad = 0\n",
    "        #entering the central pixel location as obtained from aladin/ds9:\n",
    "        x_of_center, y_of_center = [int(s) for s in input('Enter the coordinates of the central pixel as measured by aladin around which a mask is needed (x y): ').split()]\n",
    "        #convert the coordinates taken from aladin to be suitable for python:\n",
    "        y_of_center = len(masking_array[:,1])-y_of_center\n",
    "        for i in range(len(masking_array)):\n",
    "            for j in range(len(masking_array[0])):\n",
    "                dssq = ((j-x_of_center)**2)+((i-y_of_center)**2)\n",
    "                if (dssq>=(Inner_rad**2)) & (dssq<(Outer_rad**2)):\n",
    "                    masking_array[i,j] = 1\n",
    "        check_if_done = input(\"Are you done with masking everything?[y/n]: \")\n",
    "        if check_if_done == 'y':\n",
    "            break\n",
    "    hdu = fits.PrimaryHDU(masking_array)\n",
    "    hdu.writeto(writetofile,overwrite=True)\n",
    "    clear_output()\n",
    "    return masking_array"
   ]
  },
  {
   "cell_type": "code",
   "execution_count": 9,
   "id": "0565080b",
   "metadata": {},
   "outputs": [],
   "source": [
    "paths = ['SPT0418-47_final_drz_sci_HST_F140W-0-~1.fits','jw01355-o016_t001_nircam_clear-f115w_i2d-1-~1.fits','jw01355-o016_t001_nircam_clear-f150w_i2d-1-~1.fits','jw01355-o016_t001_nircam_clear-f200w_i2d-1-~1.fits','jw01355-o016_t001_nircam_clear-f277w_i2d-1-~1.fits','jw01355-o016_t001_nircam_clear-f356w_i2d-1-~1.fits','jw01355-o016_t001_nircam_clear-f444w_i2d-1-~1.fits','jw01355-o015_t001_miri_f560w_i2d-1-~1.fits','jw01355-o015_t001_miri_f770w_i2d-1-~1.fits','jw01355-o015_t001_miri_f1000w_i2d-1-~1.fits','jw01355-o015_t001_miri_f1280w_i2d-1-~1.fits','jw01355-o015_t001_miri_f1500w_i2d-1-~1.fits','jw01355-o015_t001_miri_f1800w_i2d-1-~1.fits','jw01355-o015_t001_miri_f2100w_i2d-1-~1.fits']\n",
    "masks = ['HSTmask.fits','nircamf115wmask.fits','nircamf150wmask.fits','nircamf200wmask.fits','nircamf277wmask.fits','nircamf356wmask.fits','nircamf444wmask.fits','mirif560wmask.fits','mirif770wmask.fits','mirif1000wmask.fits','mirif1280wmask.fits','mirif1500wmask.fits','mirif1800wmask.fits','mirif2100wmask.fits']\n",
    "for i in range(len(paths)):\n",
    "    print(\"working on \",paths[i])\n",
    "    Check_if_worked_on_previously = input(\"Do you want to mask pixels in this file?[y/n]\")\n",
    "    if Check_if_worked_on_previously == 'n':\n",
    "        i = i+1\n",
    "        clear_output()\n",
    "    elif Check_if_worked_on_previously =='y':\n",
    "        mask(paths[i],masks[i])"
   ]
  },
  {
   "cell_type": "code",
   "execution_count": null,
   "id": "ea6bbce0",
   "metadata": {},
   "outputs": [],
   "source": []
  }
 ],
 "metadata": {
  "kernelspec": {
   "display_name": "Python 3 (ipykernel)",
   "language": "python",
   "name": "python3"
  },
  "language_info": {
   "codemirror_mode": {
    "name": "ipython",
    "version": 3
   },
   "file_extension": ".py",
   "mimetype": "text/x-python",
   "name": "python",
   "nbconvert_exporter": "python",
   "pygments_lexer": "ipython3",
   "version": "3.10.9"
  }
 },
 "nbformat": 4,
 "nbformat_minor": 5
}
