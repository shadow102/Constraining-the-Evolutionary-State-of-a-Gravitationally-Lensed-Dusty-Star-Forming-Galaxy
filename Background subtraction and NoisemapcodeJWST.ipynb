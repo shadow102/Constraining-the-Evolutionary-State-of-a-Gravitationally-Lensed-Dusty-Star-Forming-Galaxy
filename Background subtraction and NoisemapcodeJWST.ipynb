{
 "cells": [
  {
   "cell_type": "code",
   "execution_count": 1,
   "id": "043ab310",
   "metadata": {},
   "outputs": [
    {
     "name": "stderr",
     "output_type": "stream",
     "text": [
      "**WARNING**: LOCAL JWST PRD VERSION PRDOPSSOC-062 CANNOT BE CHECKED AGAINST ONLINE VERSION\n"
     ]
    }
   ],
   "source": [
    "#importing necessary libraries\n",
    "import webbpsf\n",
    "import matplotlib.pyplot as plt\n",
    "import numpy as np\n",
    "from astropy.io import fits\n",
    "from scipy.stats import norm\n",
    "from scipy.optimize import curve_fit\n",
    "import math\n",
    "from IPython.display import clear_output"
   ]
  },
  {
   "cell_type": "code",
   "execution_count": 2,
   "id": "3a973dc1",
   "metadata": {},
   "outputs": [],
   "source": [
    "def NoiseMap(path,writefile,bkgsubfile):\n",
    "    def gauss_f(x,mu,sig):\n",
    "        return (1/(sig*(np.sqrt(2*np.pi))))*np.exp((-1/2)*(((x-mu)**2)/(sig**2)))\n",
    "    Datafile = fits.open(path)\n",
    "    hdr = Datafile[0].header\n",
    "    pixelarea = hdr['PIXAR_SR']\n",
    "    tocps = hdr['PHOTMJSR']\n",
    "    exptime = hdr['XPOSURE']\n",
    "    print(exptime)\n",
    "    data = (Datafile[0].data/tocps)*exptime\n",
    "    #creating a list of pixels to fit for readout noise\n",
    "    satischeck = 1\n",
    "    while satischeck == 1:\n",
    "        print(data)\n",
    "        pixforguassian=[]\n",
    "        lowlimit = 0.0\n",
    "        uplimit = float(input(\"Enter the upper limit of flux density for the guassian\"))\n",
    "        for i in range(len(data)):\n",
    "            for j in range (len(data[i])):\n",
    "                if (data[i][j] >= lowlimit) & (data[i][j] <= uplimit):\n",
    "                    pixforguassian.append(data[i][j])\n",
    "        pixforguassian = np.array(pixforguassian)\n",
    "        pixforguassian = np.sort(pixforguassian)\n",
    "        print(\"try initial guesses: \")\n",
    "        print(np.mean(pixforguassian),np.std(pixforguassian))\n",
    "        #plotting the histogram of the pixel values and the guassian fit curve\n",
    "        n, bins,_ = plt.hist(pixforguassian, 25, density=True)\n",
    "        plt.ylabel('Frequency')\n",
    "        plt.xlabel('Time integrated flux ($N_{electrons}$)')\n",
    "        plt.title('Frequency in Time Integrated Flux Ranges')\n",
    "        centerofbins = np.zeros([len(bins) - 1])\n",
    "        errorsinbins = np.zeros([len(bins) - 1])\n",
    "        for i in range(len(bins)-1):\n",
    "            centerofbins[i] = (bins[i]+bins[i+1])/2\n",
    "            errorsinbins[i] = np.sqrt(n[i])\n",
    "        initmu, initsig = [float(s) for s in input('Enter initial guesses for mu, and sig ').split()]\n",
    "        popt, pcov = curve_fit(gauss_f, centerofbins, n,sigma=errorsinbins, p0=[initmu, initsig])\n",
    "        print(popt)\n",
    "        print(pcov)\n",
    "        mu_opt, sig_opt = popt\n",
    "        x_model = np.linspace(min(bins), max(bins), 1000)\n",
    "        y_model = gauss_f(x_model, mu_opt, sig_opt)\n",
    "        plt.plot(x_model, y_model)\n",
    "        plt.show()\n",
    "        #checking for satisfactory fit\n",
    "        satisfactory = input(\"Is the fit satisfactory?[y/n]\")\n",
    "        #jumping back to take the limit:\n",
    "        if satisfactory == \"n\":\n",
    "            satischeck = 1\n",
    "            clear_output()\n",
    "        #proceding with possion noise and total noise calculation:\n",
    "        elif satisfactory == \"y\":\n",
    "            satischeck = 0\n",
    "    sigma_sky=sig_opt\n",
    "    data = (data - mu_opt)\n",
    "    print(sigma_sky)\n",
    "    #possion(noise:/tocps)*pixelarea\n",
    "    sigma_p_squared = np.zeros([len(data),len(data[0])])\n",
    "    for i in range(len(data)):\n",
    "        for j in range(len(data[0])):\n",
    "            sigma_p_squared[i][j] = data[i][j]\n",
    "    sigma_sky_for_total_exp_sq = (sigma_sky)**2\n",
    "    sigma_tot_sq = sigma_p_squared + sigma_sky_for_total_exp_sq \n",
    "    sigma_tot = (np.sqrt(sigma_tot_sq)/exptime)*tocps\n",
    "    data = data*tocps\n",
    "    #writing the fits file\n",
    "    hdu = fits.PrimaryHDU(sigma_tot)\n",
    "    hdu.writeto(writefile,overwrite=True)\n",
    "    with fits.open(writefile, mode='update') as hdu:\n",
    "        hdu[0].header=hdr# Change something in hdul.\n",
    "        hdu.flush()  # changes are written back to original.fits\n",
    "    hdu1 = fits.PrimaryHDU(data)\n",
    "    hdu1.writeto(bkgsubfile,overwrite=True)\n",
    "    with fits.open(bkgsubfile,mode= 'update') as hdu1:\n",
    "        hdu1[0].header=hdr# Change something in hdul.\n",
    "        hdu1.flush() \n",
    "    clear_output()"
   ]
  },
  {
   "cell_type": "code",
   "execution_count": 4,
   "id": "3b50971f",
   "metadata": {
    "scrolled": false
   },
   "outputs": [],
   "source": [
    "#reading the header file ('change the redundant import of this file above...')\n",
    "paths = [\"jw01355-o015_t001_miri_f560w_i2d-1-~1.fits\",\"jw01355-o015_t001_miri_f770w_i2d-1-~1.fits\",\"jw01355-o015_t001_miri_f1000w_i2d-1-~1.fits\",\"jw01355-o015_t001_miri_f1280w_i2d-1-~1.fits\",\"jw01355-o015_t001_miri_f1500w_i2d-1-~1.fits\",\"jw01355-o015_t001_miri_f1800w_i2d-1-~1.fits\",\"jw01355-o015_t001_miri_f2100w_i2d-1-~1.fits\",\"jw01355-o016_t001_nircam_clear-f115w_i2d-1-~1.fits\",\"jw01355-o016_t001_nircam_clear-f150w_i2d-1-~1.fits\",\"jw01355-o016_t001_nircam_clear-f200w_i2d-1-~1.fits\",\"jw01355-o016_t001_nircam_clear-f277w_i2d-1-~1.fits\",\"jw01355-o016_t001_nircam_clear-f356w_i2d-1-~1.fits\",\"jw01355-o016_t001_nircam_clear-f444w_i2d-1-~1.fits\"]\n",
    "writingfiles = [\"miri560noisemap.fits\",\"miri770noisemap.fits\",\"miri1000noisemap.fits\",\"miri1280noisemap.fits\",\"miri1500noisemap.fits\",\"miri1800noisemap.fits\",\"miri2100noisemap.fits\",\"nircam115noisemap.fits\",\"nircam150noisemap.fits\",\"nircam200noisemap.fits\",\"nircam277noisemap.fits\",\"nircam356noisemap.fits\",\"nircam444noisemap.fits\"]\n",
    "bkgfiles = ['miri560bkgsub.fits','miri770bkgsub.fits','miri1000bkgsub.fits','miri1280bkgsub.fits','miri1500bkgsub.fits',\"miri1800bkgsum.fits\",\"miri2100bkgsub.fits\",\"nircam115bkgsub.fits\",\"nircam150bkgsub.fits\",\"nircam200bkgsub.fits\",\"nircam277bkgsub.fits\",\"nircam356bkgsub.fits\",\"nircam444bkgsub.fits\"]\n",
    "for i in range(len(paths)):\n",
    "    print(\"working on \",paths[i])\n",
    "    Check_if_worked_on_previously = input(\"Do you want to obtain a noisemap for this file?[y/n]\")\n",
    "    if Check_if_worked_on_previously == 'n':\n",
    "        i = i+1\n",
    "        clear_output()\n",
    "    elif Check_if_worked_on_previously =='y':\n",
    "        NoiseMap(paths[i],writingfiles[i],bkgfiles[i])"
   ]
  },
  {
   "cell_type": "code",
   "execution_count": null,
   "id": "5cd1ae1c",
   "metadata": {},
   "outputs": [],
   "source": []
  }
 ],
 "metadata": {
  "kernelspec": {
   "display_name": "Python 3 (ipykernel)",
   "language": "python",
   "name": "python3"
  },
  "language_info": {
   "codemirror_mode": {
    "name": "ipython",
    "version": 3
   },
   "file_extension": ".py",
   "mimetype": "text/x-python",
   "name": "python",
   "nbconvert_exporter": "python",
   "pygments_lexer": "ipython3",
   "version": "3.10.9"
  }
 },
 "nbformat": 4,
 "nbformat_minor": 5
}
