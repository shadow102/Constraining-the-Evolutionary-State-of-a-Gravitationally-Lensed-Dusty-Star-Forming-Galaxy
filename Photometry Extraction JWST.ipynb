{
 "cells": [
  {
   "cell_type": "code",
   "execution_count": 1,
   "id": "ad3be4cc",
   "metadata": {},
   "outputs": [],
   "source": [
    "import numpy as np\n",
    "from astropy.io import fits\n",
    "import sys\n",
    "import pandas as pd\n",
    "np.set_printoptions(threshold=sys.maxsize)\n",
    "from IPython.display import clear_output"
   ]
  },
  {
   "cell_type": "code",
   "execution_count": 2,
   "id": "65f64f1d",
   "metadata": {},
   "outputs": [],
   "source": [
    "def Flux(path,noisemap):\n",
    "    Datafile = fits.open(path)\n",
    "    data = Datafile[3].data\n",
    "    noise = fits.open(noisemap)[0].data\n",
    "    head = Datafile[1].header\n",
    "    print(np.shape(data))\n",
    "    flux_array = []\n",
    "    noise_array = []\n",
    "    Outer_rad = int(input(\"Enter the outer radius: \"))\n",
    "    Inner_rad = int(input(\"Enter the inner radius: \"))\n",
    "        #entering the central pixel location as obtained from aladin/ds9:\n",
    "    x_of_center, y_of_center = [int(s) for s in input('Enter the coordinates of the central pixel as measured by aladin around which a mask is needed (x y): ').split()]\n",
    "    #convert the coordinates taken from aladin to be suitable for python:\n",
    "    y_of_center = len(data[:,1])-y_of_center\n",
    "    for i in range(len(data)):\n",
    "        for j in range(len(data[0])):\n",
    "            dssq = ((j-x_of_center)**2)+((i-y_of_center)**2)\n",
    "            if (dssq>=(Inner_rad**2)) & (dssq<(Outer_rad**2)):\n",
    "                flux_array.append(data[i][j])\n",
    "                noise_array.append(noise[i][j])\n",
    "    flux_array = np.array(flux_array)\n",
    "    noise_array = np.array(noise_array)\n",
    "    noise_array = noise_array*10**12\n",
    "    uncertainity = np.sqrt(np.sum(noise_array**2))*head['PIXAR_SR']\n",
    "    print(uncertainity)\n",
    "    total_flux = np.sum(flux_array)*10**12*head['PIXAR_SR'] \n",
    "    #clear_output()\n",
    "    return total_flux, uncertainity"
   ]
  },
  {
   "cell_type": "code",
   "execution_count": 3,
   "id": "0ebdcb7d",
   "metadata": {},
   "outputs": [
    {
     "name": "stdout",
     "output_type": "stream",
     "text": [
      "working on  galfitoutnircam115.fits\n",
      "(450, 450)\n",
      "Enter the outer radius: 54\n",
      "Enter the inner radius: 33\n",
      "Enter the coordinates of the central pixel as measured by aladin around which a mask is needed (x y): 231 219\n",
      "0.05705480451042268\n",
      "working on  galfitoutnircam150.fits\n",
      "(450, 450)\n",
      "Enter the outer radius: 54\n",
      "Enter the inner radius: 33\n",
      "Enter the coordinates of the central pixel as measured by aladin around which a mask is needed (x y): 231 222\n",
      "0.08028915420338582\n",
      "working on  galfitoutnircam200.fits\n",
      "(450, 450)\n",
      "Enter the outer radius: 54\n",
      "Enter the inner radius: 33\n",
      "Enter the coordinates of the central pixel as measured by aladin around which a mask is needed (x y): 227 221\n",
      "0.061557226086116655\n",
      "working on  galfitoutnircam277.fits\n",
      "(200, 200)\n",
      "Enter the outer radius: 24\n",
      "Enter the inner radius: 15\n",
      "Enter the coordinates of the central pixel as measured by aladin around which a mask is needed (x y): 100 100\n",
      "0.06236561891289166\n",
      "working on  galfitoutnircam356.fits\n",
      "(200, 200)\n",
      "Enter the outer radius: 24\n",
      "Enter the inner radius: 15\n",
      "Enter the coordinates of the central pixel as measured by aladin around which a mask is needed (x y): 100 100\n",
      "0.07528397943561117\n",
      "working on  galfitoutnircam444.fits\n",
      "(200, 200)\n",
      "Enter the outer radius: 34\n",
      "Enter the inner radius: 15\n",
      "Enter the coordinates of the central pixel as measured by aladin around which a mask is needed (x y): 100 100\n",
      "0.08974347225921561\n",
      "working on  galfitoutmirif560w.fits\n",
      "(120, 120)\n",
      "Enter the outer radius: 16\n",
      "Enter the inner radius: 7\n",
      "Enter the coordinates of the central pixel as measured by aladin around which a mask is needed (x y): 62 56\n",
      "0.3933198333913278\n",
      "working on  galfitoutmirif770w.fits\n",
      "(120, 120)\n",
      "Enter the outer radius: 16\n",
      "Enter the inner radius: 6\n",
      "Enter the coordinates of the central pixel as measured by aladin around which a mask is needed (x y): 60 58\n",
      "0.5209316684574747\n",
      "working on  galfitoutmirif1000w.fits\n",
      "(120, 120)\n",
      "Enter the outer radius: 16\n",
      "Enter the inner radius: 6\n",
      "Enter the coordinates of the central pixel as measured by aladin around which a mask is needed (x y): 60 60\n",
      "0.9000839511850705\n",
      "working on  galfitoutmirif1280w.fits\n",
      "(120, 120)\n",
      "Enter the outer radius: 16\n",
      "Enter the inner radius: 6\n",
      "Enter the coordinates of the central pixel as measured by aladin around which a mask is needed (x y): 59 60\n",
      "1.14382427883231\n",
      "working on  galfitoutmirif1500w.fits\n",
      "(120, 120)\n",
      "Enter the outer radius: 16\n",
      "Enter the inner radius: 6\n",
      "Enter the coordinates of the central pixel as measured by aladin around which a mask is needed (x y): 60 60\n",
      "1.241257032335004\n",
      "working on  galfitoutmirif1800w.fits\n",
      "(120, 120)\n",
      "Enter the outer radius: 16\n",
      "Enter the inner radius: 6\n",
      "Enter the coordinates of the central pixel as measured by aladin around which a mask is needed (x y): 62 60\n",
      "1.4759517951520817\n",
      "working on  galfitoutmirif2100w.fits\n",
      "(120, 120)\n",
      "Enter the outer radius: 16\n",
      "Enter the inner radius: 6\n",
      "Enter the coordinates of the central pixel as measured by aladin around which a mask is needed (x y): 61 57\n",
      "1.3557774912117984\n"
     ]
    }
   ],
   "source": [
    "path = ['galfitoutnircam115.fits','galfitoutnircam150.fits','galfitoutnircam200.fits','galfitoutnircam277.fits','galfitoutnircam356.fits','galfitoutnircam444.fits','galfitoutmirif560w.fits','galfitoutmirif770w.fits','galfitoutmirif1000w.fits','galfitoutmirif1280w.fits','galfitoutmirif1500w.fits','galfitoutmirif1800w.fits','galfitoutmirif2100w.fits']\n",
    "noisemap_list = ['nircam115noisemap.fits','nircam150noisemap.fits','nircam200noisemap.fits','nircam277noisemap.fits','nircam356noisemap.fits','nircam444noisemap.fits','miri560noisemap.fits','miri770noisemap.fits','miri1000noisemap.fits','miri1280noisemap.fits','miri1500noisemap.fits','miri1800noisemap.fits','miri2100noisemap.fits']\n",
    "flux_list = np.zeros(len(path))\n",
    "error_in_flux_list = np.zeros(len(path))\n",
    "for i in range(len(path)):\n",
    "    print(\"working on \",path[i])\n",
    "    flux_list[i],error_in_flux_list[i] = Flux(path[i],noisemap_list[i])"
   ]
  },
  {
   "cell_type": "code",
   "execution_count": 4,
   "id": "52cbb6f7",
   "metadata": {},
   "outputs": [
    {
     "data": {
      "text/plain": [
       "array([  1.73244184,   3.8381915 ,   2.8184781 ,   3.022749  ,\n",
       "         7.14077176,  15.10672601,  35.59236792,  74.6496116 ,\n",
       "       114.72180071, 101.54047281,  85.89271085, 103.84769362,\n",
       "       101.39115397])"
      ]
     },
     "execution_count": 4,
     "metadata": {},
     "output_type": "execute_result"
    }
   ],
   "source": [
    "flux_list"
   ]
  },
  {
   "cell_type": "code",
   "execution_count": 5,
   "id": "e593c9d8",
   "metadata": {},
   "outputs": [
    {
     "data": {
      "text/plain": [
       "array([0.0570548 , 0.08028915, 0.06155723, 0.06236562, 0.07528398,\n",
       "       0.08974347, 0.39331983, 0.52093167, 0.90008395, 1.14382428,\n",
       "       1.24125703, 1.4759518 , 1.35577749])"
      ]
     },
     "execution_count": 5,
     "metadata": {},
     "output_type": "execute_result"
    }
   ],
   "source": [
    "error_in_flux_list"
   ]
  },
  {
   "cell_type": "code",
   "execution_count": null,
   "id": "a69e6e71",
   "metadata": {},
   "outputs": [],
   "source": []
  }
 ],
 "metadata": {
  "kernelspec": {
   "display_name": "Python 3 (ipykernel)",
   "language": "python",
   "name": "python3"
  },
  "language_info": {
   "codemirror_mode": {
    "name": "ipython",
    "version": 3
   },
   "file_extension": ".py",
   "mimetype": "text/x-python",
   "name": "python",
   "nbconvert_exporter": "python",
   "pygments_lexer": "ipython3",
   "version": "3.10.9"
  }
 },
 "nbformat": 4,
 "nbformat_minor": 5
}
