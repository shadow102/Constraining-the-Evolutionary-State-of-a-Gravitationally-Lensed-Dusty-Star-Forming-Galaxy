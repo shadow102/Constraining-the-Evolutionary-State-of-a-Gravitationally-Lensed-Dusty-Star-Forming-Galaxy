{
 "cells": [
  {
   "cell_type": "code",
   "execution_count": 1,
   "id": "7bc2c5c5",
   "metadata": {},
   "outputs": [
    {
     "name": "stderr",
     "output_type": "stream",
     "text": [
      "**WARNING**: LOCAL JWST PRD VERSION PRDOPSSOC-059 CANNOT BE CHECKED AGAINST ONLINE VERSION\n"
     ]
    }
   ],
   "source": [
    "import webbpsf\n",
    "import matplotlib.pyplot as plt\n",
    "import numpy as np\n",
    "from astropy.io import fits\n",
    "from scipy.stats import norm\n",
    "from scipy.ndimage import shift\n",
    "from mpl_toolkits import mplot3d\n",
    "from matplotlib import cm\n",
    "import math"
   ]
  },
  {
   "cell_type": "code",
   "execution_count": 2,
   "id": "cb720c1a",
   "metadata": {},
   "outputs": [],
   "source": [
    "def PSF(Listofarrays, PSFfile, size_of_crop, numb_of_stars):\n",
    "    def shift_max_to_center_and_norm(arr):\n",
    "        position_of_max = np.where(arr == np.max(arr))\n",
    "        if len(position_of_max[0])>1:\n",
    "            ret = 'image is saturated'\n",
    "            return ret\n",
    "        else:\n",
    "            center = np.array(np.shape(arr))//2\n",
    "            shifted_array = shift(arr , [center[0]-position_of_max[0],center[1]-position_of_max[1]],cval=np.nan)\n",
    "            #check with diego about what Mattia ment\n",
    "            for i in range(len(shifted_array)):\n",
    "                for j in range(len(shifted_array[0])):\n",
    "                    if shifted_array[i][j] != np.NaN:\n",
    "                        shifted_array[i][j] = shifted_array[i][j]/np.max(arr)\n",
    "            return shifted_array\n",
    "    datafiles = np.zeros([num_of_stars, size_of_crop[0], size_of_crop[1]])\n",
    "    for j in range(len(datafiles)):\n",
    "        data = fits.open(Listofarrays[j])\n",
    "        datafiles[j] = data[0].data\n",
    "    norm_max_central_arrays = np.zeros([num_of_stars,size_of_crop[0],size_of_crop[1]])\n",
    "    for k in range(len(datafiles)):\n",
    "        norm_max_central_arrays[k] = shift_max_to_center_and_norm(datafiles[k]) \n",
    "    for l in range(len(norm_max_central_arrays)):\n",
    "        if type(norm_max_central_arrays[l]) == 'str':\n",
    "            np.delete(norm_max_central_arrays, i)\n",
    "    PSFwithNaNs = np.median(norm_max_central_arrays,axis=0)\n",
    "    PSF = PSFwithNaNs[3:-3,3:-3]\n",
    "    hdu = fits.PrimaryHDU(PSF)\n",
    "    hdu.writeto(PSFfile,overwrite=True)"
   ]
  },
  {
   "cell_type": "code",
   "execution_count": 6,
   "id": "9f520670",
   "metadata": {},
   "outputs": [
    {
     "name": "stdout",
     "output_type": "stream",
     "text": [
      "12\n"
     ]
    }
   ],
   "source": [
    "path = [[\"SPT0418-47_star~1.fits\",\"SPT0418-47_star~2.fits\" ,\"SPT0418-47_star~4.fits\"],[\"jw01355-o015_t001_miri_f560w_star~1.fits\",\"jw01355-o015_t001_miri_f560w_star~2.fits\",\"jw01355-o015_t001_miri_f560w_star~3.fits\"],[\"jw01355-o015_t001_miri_f770w_star~1.fits\",\"jw01355-o015_t001_miri_f770w_star~2.fits\",\"jw01355-o015_t001_miri_f770w_star~3.fits\"],['jw01355-o015_t001_miri_f1000w_star-~1.fits'],[\"jw01355-o015_t001_miri_f1280w_star~1.fits\"],[\"jw01355-o015_t001_miri_f1500w_star~1.fits\"],[\"jw01355-o016_t001_nircam_clear-f115w_star~4.fits\",\"jw01355-o016_t001_nircam_clear-f115w_star~5.fits\",\"jw01355-o016_t001_nircam_clear-f115w_star~6.fits\",\"jw01355-o016_t001_nircam_clear-f115w_star~1.fits\",\"jw01355-o016_t001_nircam_clear-f115w_star~2.fits\",\"jw01355-o016_t001_nircam_clear-f115w_star~3.fits\"],[\"jw01355-o016_t001_nircam_clear-f150w_star~1.fits\",\"jw01355-o016_t001_nircam_clear-f150w_star~2.fits\",\"jw01355-o016_t001_nircam_clear-f150w_star~3.fits\",\"jw01355-o016_t001_nircam_clear-f150w_star~4.fits\",\"jw01355-o016_t001_nircam_clear-f150w_star~5.fits\",\"jw01355-o016_t001_nircam_clear-f150w_star~6.fits\",\"jw01355-o016_t001_nircam_clear-f150w_star~7.fits\"],[\"jw01355-o016_t001_nircam_clear-f200w_star~1.fits\",\"jw01355-o016_t001_nircam_clear-f200w_star~2.fits\",\"jw01355-o016_t001_nircam_clear-f200w_star~3.fits\",\"jw01355-o016_t001_nircam_clear-f200w_star~4.fits\",\"jw01355-o016_t001_nircam_clear-f200w_star~5.fits\",\"jw01355-o016_t001_nircam_clear-f200w_star~6.fits\",\"jw01355-o016_t001_nircam_clear-f200w_star~7.fits\"],[\"jw01355-o016_t001_nircam_clear-f277w_star~1.fits\",\"jw01355-o016_t001_nircam_clear-f277w_star~2.fits\",\"jw01355-o016_t001_nircam_clear-f277w_star~3.fits\",\"jw01355-o016_t001_nircam_clear-f277w_star~4.fits\",\"jw01355-o016_t001_nircam_clear-f277w_star~5.fits\",\"jw01355-o016_t001_nircam_clear-f277w_star~6.fits\",\"jw01355-o016_t001_nircam_clear-f277w_star~7.fits\"],[\"jw01355-o016_t001_nircam_clear-f356w_star~1.fits\",\"jw01355-o016_t001_nircam_clear-f356w_star~2.fits\",\"jw01355-o016_t001_nircam_clear-f356w_star~3.fits\",\"jw01355-o016_t001_nircam_clear-f356w_star~4.fits\",\"jw01355-o016_t001_nircam_clear-f356w_star~5.fits\",\"jw01355-o016_t001_nircam_clear-f356w_star~6.fits\",\"jw01355-o016_t001_nircam_clear-f356w_star~7.fits\"],[\"jw01355-o016_t001_nircam_clear-f444w_star~1.fits\",\"jw01355-o016_t001_nircam_clear-f444w_star~2.fits\",\"jw01355-o016_t001_nircam_clear-f444w_star~3.fits\"]]\n",
    "print(len(path))\n",
    "PSFfilenames = [\"HSTpsf.fits\",\"JWSTmirif560wpsf.fits\",\"JWSTmirif770wpsf.fits\",\"JWSTmirif1000wpsf.fits\",\"JWSTmirif1280wpsf.fits\",\"JWSTmirif1500wpsf.fits\",\"JWSTnircamf115wpsf.fits\",\"JWSTnircamf150wpsf.fits\",\"JWSTnircamf200psf.fits\",\"JWSTnircamf277wpsf.fits\",\"JWSTnircam356wpsf.fits\",\"JWSTnircamf444wpsf.fits\"]"
   ]
  },
  {
   "cell_type": "code",
   "execution_count": 9,
   "id": "5d70a124",
   "metadata": {},
   "outputs": [],
   "source": [
    "for i in range(len(path)):\n",
    "    num_of_stars = len(path[i])\n",
    "    if (i==0) or ((i>=6) and (i<11)):\n",
    "        size_of_crop = [82,82]\n",
    "    elif (i>0) and (i<6):\n",
    "        size_of_crop = [40,40]\n",
    "    elif i==11:\n",
    "        size_of_crop =[100,100]\n",
    "    PSF(path[i], PSFfilenames[i], size_of_crop, num_of_stars)"
   ]
  },
  {
   "cell_type": "code",
   "execution_count": null,
   "id": "5e7400ac",
   "metadata": {},
   "outputs": [],
   "source": [
    "Datafile = fits.open(\"JWSTnircamf444wpsf.fits\")\n",
    "hdr = Datafile[0].header\n",
    "data = Datafile[0].data\n",
    "with np.printoptions(threshold=np.inf):\n",
    "    print(data)"
   ]
  }
 ],
 "metadata": {
  "kernelspec": {
   "display_name": "Python 3 (ipykernel)",
   "language": "python",
   "name": "python3"
  },
  "language_info": {
   "codemirror_mode": {
    "name": "ipython",
    "version": 3
   },
   "file_extension": ".py",
   "mimetype": "text/x-python",
   "name": "python",
   "nbconvert_exporter": "python",
   "pygments_lexer": "ipython3",
   "version": "3.10.6"
  }
 },
 "nbformat": 4,
 "nbformat_minor": 5
}
